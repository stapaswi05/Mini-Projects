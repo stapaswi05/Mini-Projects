{
  "cells": [
    {
      "cell_type": "markdown",
      "metadata": {
        "id": "view-in-github",
        "colab_type": "text"
      },
      "source": [
        "<a href=\"https://colab.research.google.com/github/sureshcrwr/Mini-Projects/blob/main/Linear_Regression.ipynb\" target=\"_parent\"><img src=\"https://colab.research.google.com/assets/colab-badge.svg\" alt=\"Open In Colab\"/></a>"
      ]
    },
    {
      "cell_type": "markdown",
      "metadata": {
        "id": "L7iU1UcJWbIH"
      },
      "source": [
        "# Linear Regression\n"
      ]
    },
    {
      "cell_type": "code",
      "source": [
        "from google.colab import drive\n",
        "drive.mount('/content/drive')"
      ],
      "metadata": {
        "colab": {
          "base_uri": "https://localhost:8080/"
        },
        "id": "GW91NKaJXLhz",
        "outputId": "8bdc4689-3b64-4b36-c5d7-3322a2413fa9"
      },
      "execution_count": 4,
      "outputs": [
        {
          "output_type": "stream",
          "name": "stdout",
          "text": [
            "Drive already mounted at /content/drive; to attempt to forcibly remount, call drive.mount(\"/content/drive\", force_remount=True).\n"
          ]
        }
      ]
    },
    {
      "cell_type": "code",
      "execution_count": 5,
      "metadata": {
        "id": "kuuFxWMnWbIJ"
      },
      "outputs": [],
      "source": [
        "import pandas as pd\n",
        "\n",
        "data_frame=pd.read_csv(r\"/content/drive/MyDrive/headbrain_2.csv\")\n",
        "\n",
        "\n",
        "X=data_frame.iloc[:,7].values\n",
        "Y=data_frame.iloc[:,8].values"
      ]
    },
    {
      "cell_type": "code",
      "execution_count": 6,
      "metadata": {
        "id": "9mGJkqulWbIK"
      },
      "outputs": [],
      "source": [
        "import numpy as np\n",
        "import matplotlib.pyplot as plt"
      ]
    },
    {
      "cell_type": "code",
      "execution_count": null,
      "metadata": {
        "id": "zskIaW_6WbIK"
      },
      "outputs": [],
      "source": [
        ""
      ]
    },
    {
      "cell_type": "code",
      "execution_count": 7,
      "metadata": {
        "id": "dNcVmwGCWbIK"
      },
      "outputs": [],
      "source": [
        "from sklearn.model_selection import train_test_split\n",
        "X_train,X_test,Y_train,Y_test=train_test_split(X,Y,test_size=0.2)"
      ]
    },
    {
      "cell_type": "code",
      "execution_count": 8,
      "metadata": {
        "id": "dfAZOB6KWbIK"
      },
      "outputs": [],
      "source": [
        "from sklearn.linear_model import LinearRegression\n",
        "reg=LinearRegression()\n",
        "X_train=X_train.reshape(-1,1)\n",
        "Y_train=Y_train.reshape(-1,1)\n",
        "\n",
        "#from sklearn import preprocessing\n",
        "#X_train = preprocessing.normalize(X_train,axis=0)\n",
        "#Y_train = preprocessing.normalize(Y_train,axis=0)\n",
        "\n",
        "model=reg.fit(X_train,Y_train)"
      ]
    },
    {
      "cell_type": "code",
      "execution_count": 9,
      "metadata": {
        "colab": {
          "base_uri": "https://localhost:8080/"
        },
        "id": "sEs-uvCCWbIK",
        "outputId": "d4caa313-f17b-4924-c93f-cd84e654a2ce"
      },
      "outputs": [
        {
          "output_type": "stream",
          "name": "stdout",
          "text": [
            "[0.12324179]\n",
            "[[0.80198046]]\n"
          ]
        }
      ],
      "source": [
        "print(model.intercept_)\n",
        "print(model.coef_)"
      ]
    },
    {
      "cell_type": "code",
      "execution_count": 10,
      "metadata": {
        "id": "so6nXEAjWbIL"
      },
      "outputs": [],
      "source": [
        "X_test=X_test.reshape(-1,1)\n",
        "Y_test=Y_test.reshape(-1,1)\n",
        "\n",
        "#from sklearn import preprocessing\n",
        "#X_test = preprocessing.normalize(X_test)\n",
        "#Y_test = preprocessing.normalize(Y_test)\n",
        "\n",
        "Y_pred=model.predict(X_test)"
      ]
    },
    {
      "cell_type": "code",
      "execution_count": 11,
      "metadata": {
        "colab": {
          "base_uri": "https://localhost:8080/"
        },
        "id": "S-dZqyRoWbIL",
        "outputId": "9204ae0b-77d5-42d4-ebad-8750ea0dd789"
      },
      "outputs": [
        {
          "output_type": "stream",
          "name": "stdout",
          "text": [
            "0.013804543976814443\n"
          ]
        }
      ],
      "source": [
        "from sklearn.metrics import mean_squared_error\n",
        "mse=mean_squared_error(Y_test, Y_pred)\n",
        "print(mse)"
      ]
    },
    {
      "cell_type": "code",
      "execution_count": null,
      "metadata": {
        "id": "S1UpK0LTWbIM"
      },
      "outputs": [],
      "source": [
        ""
      ]
    }
  ],
  "metadata": {
    "kernelspec": {
      "display_name": "Python 3",
      "language": "python",
      "name": "python3"
    },
    "language_info": {
      "codemirror_mode": {
        "name": "ipython",
        "version": 3
      },
      "file_extension": ".py",
      "mimetype": "text/x-python",
      "name": "python",
      "nbconvert_exporter": "python",
      "pygments_lexer": "ipython3",
      "version": "3.6.6"
    },
    "colab": {
      "name": "Linear_Regression.ipynb",
      "provenance": [],
      "include_colab_link": true
    }
  },
  "nbformat": 4,
  "nbformat_minor": 0
}