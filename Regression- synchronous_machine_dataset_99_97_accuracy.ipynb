{
  "metadata": {
    "kernelspec": {
      "language": "python",
      "display_name": "Python 3",
      "name": "python3"
    },
    "language_info": {
      "pygments_lexer": "ipython3",
      "nbconvert_exporter": "python",
      "version": "3.6.4",
      "file_extension": ".py",
      "codemirror_mode": {
        "name": "ipython",
        "version": 3
      },
      "name": "python",
      "mimetype": "text/x-python"
    },
    "colab": {
      "name": "synchronous-machine-dataset-99-97-accuracy.ipynb",
      "provenance": [],
      "include_colab_link": true
    }
  },
  "nbformat_minor": 0,
  "nbformat": 4,
  "cells": [
    {
      "cell_type": "markdown",
      "metadata": {
        "id": "view-in-github",
        "colab_type": "text"
      },
      "source": [
        "<a href=\"https://colab.research.google.com/github/sureshcrwr/Mini-Projects/blob/main/Regression-%20synchronous_machine_dataset_99_97_accuracy.ipynb\" target=\"_parent\"><img src=\"https://colab.research.google.com/assets/colab-badge.svg\" alt=\"Open In Colab\"/></a>"
      ]
    },
    {
      "cell_type": "code",
      "source": [
        "import pandas as pd\n",
        "import numpy as np\n",
        "import matplotlib.pyplot as plt\n",
        "import seaborn as sns\n",
        "sns.set()"
      ],
      "metadata": {
        "execution": {
          "iopub.status.busy": "2022-06-27T15:41:52.560903Z",
          "iopub.execute_input": "2022-06-27T15:41:52.561293Z",
          "iopub.status.idle": "2022-06-27T15:41:52.567375Z",
          "shell.execute_reply.started": "2022-06-27T15:41:52.561259Z",
          "shell.execute_reply": "2022-06-27T15:41:52.566114Z"
        },
        "trusted": true,
        "id": "BOIwgNdIJuAi"
      },
      "execution_count": 1,
      "outputs": []
    },
    {
      "cell_type": "code",
      "source": [
        "from google.colab import drive\n",
        "drive.mount('/content/drive/')"
      ],
      "metadata": {
        "colab": {
          "base_uri": "https://localhost:8080/"
        },
        "id": "6Mkc7imdKkf-",
        "outputId": "0969bdd1-5d6e-4efb-ed01-57b37fb5b6b8"
      },
      "execution_count": 9,
      "outputs": [
        {
          "output_type": "stream",
          "name": "stdout",
          "text": [
            "Mounted at /content/drive/\n"
          ]
        }
      ]
    },
    {
      "cell_type": "code",
      "source": [
        "df=pd.read_csv(\"/content/drive/MyDrive/SynchronousMachine.csv\")"
      ],
      "metadata": {
        "execution": {
          "iopub.status.busy": "2022-06-27T15:41:52.572223Z",
          "iopub.execute_input": "2022-06-27T15:41:52.572908Z",
          "iopub.status.idle": "2022-06-27T15:41:52.582251Z",
          "shell.execute_reply.started": "2022-06-27T15:41:52.572872Z",
          "shell.execute_reply": "2022-06-27T15:41:52.581339Z"
        },
        "trusted": true,
        "id": "0y2Vvi8KJuAk"
      },
      "execution_count": 11,
      "outputs": []
    },
    {
      "cell_type": "code",
      "source": [
        "df.head()"
      ],
      "metadata": {
        "execution": {
          "iopub.status.busy": "2022-06-27T15:41:52.584002Z",
          "iopub.execute_input": "2022-06-27T15:41:52.584612Z",
          "iopub.status.idle": "2022-06-27T15:41:52.612337Z",
          "shell.execute_reply.started": "2022-06-27T15:41:52.58458Z",
          "shell.execute_reply": "2022-06-27T15:41:52.611118Z"
        },
        "trusted": true,
        "colab": {
          "base_uri": "https://localhost:8080/",
          "height": 206
        },
        "id": "AZTjGz_jJuAk",
        "outputId": "8f9aaa22-ba1d-4d1a-915d-2fda1486f84e"
      },
      "execution_count": 12,
      "outputs": [
        {
          "output_type": "execute_result",
          "data": {
            "text/plain": [
              "   I_y    PF  e_PF   d_if    I_f\n",
              "0  3.0  0.66  0.34  0.383  1.563\n",
              "1  3.0  0.68  0.32  0.372  1.552\n",
              "2  3.0  0.70  0.30  0.360  1.540\n",
              "3  3.0  0.72  0.28  0.338  1.518\n",
              "4  3.0  0.74  0.26  0.317  1.497"
            ],
            "text/html": [
              "\n",
              "  <div id=\"df-c01a910c-349a-4858-8aec-3fdf3c122497\">\n",
              "    <div class=\"colab-df-container\">\n",
              "      <div>\n",
              "<style scoped>\n",
              "    .dataframe tbody tr th:only-of-type {\n",
              "        vertical-align: middle;\n",
              "    }\n",
              "\n",
              "    .dataframe tbody tr th {\n",
              "        vertical-align: top;\n",
              "    }\n",
              "\n",
              "    .dataframe thead th {\n",
              "        text-align: right;\n",
              "    }\n",
              "</style>\n",
              "<table border=\"1\" class=\"dataframe\">\n",
              "  <thead>\n",
              "    <tr style=\"text-align: right;\">\n",
              "      <th></th>\n",
              "      <th>I_y</th>\n",
              "      <th>PF</th>\n",
              "      <th>e_PF</th>\n",
              "      <th>d_if</th>\n",
              "      <th>I_f</th>\n",
              "    </tr>\n",
              "  </thead>\n",
              "  <tbody>\n",
              "    <tr>\n",
              "      <th>0</th>\n",
              "      <td>3.0</td>\n",
              "      <td>0.66</td>\n",
              "      <td>0.34</td>\n",
              "      <td>0.383</td>\n",
              "      <td>1.563</td>\n",
              "    </tr>\n",
              "    <tr>\n",
              "      <th>1</th>\n",
              "      <td>3.0</td>\n",
              "      <td>0.68</td>\n",
              "      <td>0.32</td>\n",
              "      <td>0.372</td>\n",
              "      <td>1.552</td>\n",
              "    </tr>\n",
              "    <tr>\n",
              "      <th>2</th>\n",
              "      <td>3.0</td>\n",
              "      <td>0.70</td>\n",
              "      <td>0.30</td>\n",
              "      <td>0.360</td>\n",
              "      <td>1.540</td>\n",
              "    </tr>\n",
              "    <tr>\n",
              "      <th>3</th>\n",
              "      <td>3.0</td>\n",
              "      <td>0.72</td>\n",
              "      <td>0.28</td>\n",
              "      <td>0.338</td>\n",
              "      <td>1.518</td>\n",
              "    </tr>\n",
              "    <tr>\n",
              "      <th>4</th>\n",
              "      <td>3.0</td>\n",
              "      <td>0.74</td>\n",
              "      <td>0.26</td>\n",
              "      <td>0.317</td>\n",
              "      <td>1.497</td>\n",
              "    </tr>\n",
              "  </tbody>\n",
              "</table>\n",
              "</div>\n",
              "      <button class=\"colab-df-convert\" onclick=\"convertToInteractive('df-c01a910c-349a-4858-8aec-3fdf3c122497')\"\n",
              "              title=\"Convert this dataframe to an interactive table.\"\n",
              "              style=\"display:none;\">\n",
              "        \n",
              "  <svg xmlns=\"http://www.w3.org/2000/svg\" height=\"24px\"viewBox=\"0 0 24 24\"\n",
              "       width=\"24px\">\n",
              "    <path d=\"M0 0h24v24H0V0z\" fill=\"none\"/>\n",
              "    <path d=\"M18.56 5.44l.94 2.06.94-2.06 2.06-.94-2.06-.94-.94-2.06-.94 2.06-2.06.94zm-11 1L8.5 8.5l.94-2.06 2.06-.94-2.06-.94L8.5 2.5l-.94 2.06-2.06.94zm10 10l.94 2.06.94-2.06 2.06-.94-2.06-.94-.94-2.06-.94 2.06-2.06.94z\"/><path d=\"M17.41 7.96l-1.37-1.37c-.4-.4-.92-.59-1.43-.59-.52 0-1.04.2-1.43.59L10.3 9.45l-7.72 7.72c-.78.78-.78 2.05 0 2.83L4 21.41c.39.39.9.59 1.41.59.51 0 1.02-.2 1.41-.59l7.78-7.78 2.81-2.81c.8-.78.8-2.07 0-2.86zM5.41 20L4 18.59l7.72-7.72 1.47 1.35L5.41 20z\"/>\n",
              "  </svg>\n",
              "      </button>\n",
              "      \n",
              "  <style>\n",
              "    .colab-df-container {\n",
              "      display:flex;\n",
              "      flex-wrap:wrap;\n",
              "      gap: 12px;\n",
              "    }\n",
              "\n",
              "    .colab-df-convert {\n",
              "      background-color: #E8F0FE;\n",
              "      border: none;\n",
              "      border-radius: 50%;\n",
              "      cursor: pointer;\n",
              "      display: none;\n",
              "      fill: #1967D2;\n",
              "      height: 32px;\n",
              "      padding: 0 0 0 0;\n",
              "      width: 32px;\n",
              "    }\n",
              "\n",
              "    .colab-df-convert:hover {\n",
              "      background-color: #E2EBFA;\n",
              "      box-shadow: 0px 1px 2px rgba(60, 64, 67, 0.3), 0px 1px 3px 1px rgba(60, 64, 67, 0.15);\n",
              "      fill: #174EA6;\n",
              "    }\n",
              "\n",
              "    [theme=dark] .colab-df-convert {\n",
              "      background-color: #3B4455;\n",
              "      fill: #D2E3FC;\n",
              "    }\n",
              "\n",
              "    [theme=dark] .colab-df-convert:hover {\n",
              "      background-color: #434B5C;\n",
              "      box-shadow: 0px 1px 3px 1px rgba(0, 0, 0, 0.15);\n",
              "      filter: drop-shadow(0px 1px 2px rgba(0, 0, 0, 0.3));\n",
              "      fill: #FFFFFF;\n",
              "    }\n",
              "  </style>\n",
              "\n",
              "      <script>\n",
              "        const buttonEl =\n",
              "          document.querySelector('#df-c01a910c-349a-4858-8aec-3fdf3c122497 button.colab-df-convert');\n",
              "        buttonEl.style.display =\n",
              "          google.colab.kernel.accessAllowed ? 'block' : 'none';\n",
              "\n",
              "        async function convertToInteractive(key) {\n",
              "          const element = document.querySelector('#df-c01a910c-349a-4858-8aec-3fdf3c122497');\n",
              "          const dataTable =\n",
              "            await google.colab.kernel.invokeFunction('convertToInteractive',\n",
              "                                                     [key], {});\n",
              "          if (!dataTable) return;\n",
              "\n",
              "          const docLinkHtml = 'Like what you see? Visit the ' +\n",
              "            '<a target=\"_blank\" href=https://colab.research.google.com/notebooks/data_table.ipynb>data table notebook</a>'\n",
              "            + ' to learn more about interactive tables.';\n",
              "          element.innerHTML = '';\n",
              "          dataTable['output_type'] = 'display_data';\n",
              "          await google.colab.output.renderOutput(dataTable, element);\n",
              "          const docLink = document.createElement('div');\n",
              "          docLink.innerHTML = docLinkHtml;\n",
              "          element.appendChild(docLink);\n",
              "        }\n",
              "      </script>\n",
              "    </div>\n",
              "  </div>\n",
              "  "
            ]
          },
          "metadata": {},
          "execution_count": 12
        }
      ]
    },
    {
      "cell_type": "code",
      "source": [
        "new_col_names={'I_y': 'Load_Current','PF': 'Powerfactor','e_PF': 'Power_factor_error','d_if': 'Change_of_excitation_current','I_f': 'Excitation_ current'}"
      ],
      "metadata": {
        "execution": {
          "iopub.status.busy": "2022-06-27T15:41:52.614294Z",
          "iopub.execute_input": "2022-06-27T15:41:52.614871Z",
          "iopub.status.idle": "2022-06-27T15:41:52.619594Z",
          "shell.execute_reply.started": "2022-06-27T15:41:52.61483Z",
          "shell.execute_reply": "2022-06-27T15:41:52.618665Z"
        },
        "trusted": true,
        "id": "jT6CNV2vJuAl"
      },
      "execution_count": 15,
      "outputs": []
    },
    {
      "cell_type": "code",
      "source": [
        "df.columns=df.columns.map(new_col_names)"
      ],
      "metadata": {
        "execution": {
          "iopub.status.busy": "2022-06-27T15:41:52.620931Z",
          "iopub.execute_input": "2022-06-27T15:41:52.621884Z",
          "iopub.status.idle": "2022-06-27T15:41:52.63996Z",
          "shell.execute_reply.started": "2022-06-27T15:41:52.621849Z",
          "shell.execute_reply": "2022-06-27T15:41:52.638737Z"
        },
        "trusted": true,
        "id": "ne2iuyuRJuAm"
      },
      "execution_count": 14,
      "outputs": []
    },
    {
      "cell_type": "code",
      "source": [
        "df.head()"
      ],
      "metadata": {
        "execution": {
          "iopub.status.busy": "2022-06-27T15:41:52.642026Z",
          "iopub.execute_input": "2022-06-27T15:41:52.642533Z",
          "iopub.status.idle": "2022-06-27T15:41:52.656721Z",
          "shell.execute_reply.started": "2022-06-27T15:41:52.642499Z",
          "shell.execute_reply": "2022-06-27T15:41:52.655702Z"
        },
        "trusted": true,
        "colab": {
          "base_uri": "https://localhost:8080/",
          "height": 206
        },
        "id": "uZXO8g6XJuAn",
        "outputId": "431492e0-74d1-48eb-ce58-5cb87e4131cc"
      },
      "execution_count": 16,
      "outputs": [
        {
          "output_type": "execute_result",
          "data": {
            "text/plain": [
              "   Load_Current  Powerfactor  Power_factor_error  \\\n",
              "0           3.0         0.66                0.34   \n",
              "1           3.0         0.68                0.32   \n",
              "2           3.0         0.70                0.30   \n",
              "3           3.0         0.72                0.28   \n",
              "4           3.0         0.74                0.26   \n",
              "\n",
              "   Change_of_excitation_current  Excitation_ current  \n",
              "0                         0.383                1.563  \n",
              "1                         0.372                1.552  \n",
              "2                         0.360                1.540  \n",
              "3                         0.338                1.518  \n",
              "4                         0.317                1.497  "
            ],
            "text/html": [
              "\n",
              "  <div id=\"df-07265448-3b48-4185-9775-7ae370640142\">\n",
              "    <div class=\"colab-df-container\">\n",
              "      <div>\n",
              "<style scoped>\n",
              "    .dataframe tbody tr th:only-of-type {\n",
              "        vertical-align: middle;\n",
              "    }\n",
              "\n",
              "    .dataframe tbody tr th {\n",
              "        vertical-align: top;\n",
              "    }\n",
              "\n",
              "    .dataframe thead th {\n",
              "        text-align: right;\n",
              "    }\n",
              "</style>\n",
              "<table border=\"1\" class=\"dataframe\">\n",
              "  <thead>\n",
              "    <tr style=\"text-align: right;\">\n",
              "      <th></th>\n",
              "      <th>Load_Current</th>\n",
              "      <th>Powerfactor</th>\n",
              "      <th>Power_factor_error</th>\n",
              "      <th>Change_of_excitation_current</th>\n",
              "      <th>Excitation_ current</th>\n",
              "    </tr>\n",
              "  </thead>\n",
              "  <tbody>\n",
              "    <tr>\n",
              "      <th>0</th>\n",
              "      <td>3.0</td>\n",
              "      <td>0.66</td>\n",
              "      <td>0.34</td>\n",
              "      <td>0.383</td>\n",
              "      <td>1.563</td>\n",
              "    </tr>\n",
              "    <tr>\n",
              "      <th>1</th>\n",
              "      <td>3.0</td>\n",
              "      <td>0.68</td>\n",
              "      <td>0.32</td>\n",
              "      <td>0.372</td>\n",
              "      <td>1.552</td>\n",
              "    </tr>\n",
              "    <tr>\n",
              "      <th>2</th>\n",
              "      <td>3.0</td>\n",
              "      <td>0.70</td>\n",
              "      <td>0.30</td>\n",
              "      <td>0.360</td>\n",
              "      <td>1.540</td>\n",
              "    </tr>\n",
              "    <tr>\n",
              "      <th>3</th>\n",
              "      <td>3.0</td>\n",
              "      <td>0.72</td>\n",
              "      <td>0.28</td>\n",
              "      <td>0.338</td>\n",
              "      <td>1.518</td>\n",
              "    </tr>\n",
              "    <tr>\n",
              "      <th>4</th>\n",
              "      <td>3.0</td>\n",
              "      <td>0.74</td>\n",
              "      <td>0.26</td>\n",
              "      <td>0.317</td>\n",
              "      <td>1.497</td>\n",
              "    </tr>\n",
              "  </tbody>\n",
              "</table>\n",
              "</div>\n",
              "      <button class=\"colab-df-convert\" onclick=\"convertToInteractive('df-07265448-3b48-4185-9775-7ae370640142')\"\n",
              "              title=\"Convert this dataframe to an interactive table.\"\n",
              "              style=\"display:none;\">\n",
              "        \n",
              "  <svg xmlns=\"http://www.w3.org/2000/svg\" height=\"24px\"viewBox=\"0 0 24 24\"\n",
              "       width=\"24px\">\n",
              "    <path d=\"M0 0h24v24H0V0z\" fill=\"none\"/>\n",
              "    <path d=\"M18.56 5.44l.94 2.06.94-2.06 2.06-.94-2.06-.94-.94-2.06-.94 2.06-2.06.94zm-11 1L8.5 8.5l.94-2.06 2.06-.94-2.06-.94L8.5 2.5l-.94 2.06-2.06.94zm10 10l.94 2.06.94-2.06 2.06-.94-2.06-.94-.94-2.06-.94 2.06-2.06.94z\"/><path d=\"M17.41 7.96l-1.37-1.37c-.4-.4-.92-.59-1.43-.59-.52 0-1.04.2-1.43.59L10.3 9.45l-7.72 7.72c-.78.78-.78 2.05 0 2.83L4 21.41c.39.39.9.59 1.41.59.51 0 1.02-.2 1.41-.59l7.78-7.78 2.81-2.81c.8-.78.8-2.07 0-2.86zM5.41 20L4 18.59l7.72-7.72 1.47 1.35L5.41 20z\"/>\n",
              "  </svg>\n",
              "      </button>\n",
              "      \n",
              "  <style>\n",
              "    .colab-df-container {\n",
              "      display:flex;\n",
              "      flex-wrap:wrap;\n",
              "      gap: 12px;\n",
              "    }\n",
              "\n",
              "    .colab-df-convert {\n",
              "      background-color: #E8F0FE;\n",
              "      border: none;\n",
              "      border-radius: 50%;\n",
              "      cursor: pointer;\n",
              "      display: none;\n",
              "      fill: #1967D2;\n",
              "      height: 32px;\n",
              "      padding: 0 0 0 0;\n",
              "      width: 32px;\n",
              "    }\n",
              "\n",
              "    .colab-df-convert:hover {\n",
              "      background-color: #E2EBFA;\n",
              "      box-shadow: 0px 1px 2px rgba(60, 64, 67, 0.3), 0px 1px 3px 1px rgba(60, 64, 67, 0.15);\n",
              "      fill: #174EA6;\n",
              "    }\n",
              "\n",
              "    [theme=dark] .colab-df-convert {\n",
              "      background-color: #3B4455;\n",
              "      fill: #D2E3FC;\n",
              "    }\n",
              "\n",
              "    [theme=dark] .colab-df-convert:hover {\n",
              "      background-color: #434B5C;\n",
              "      box-shadow: 0px 1px 3px 1px rgba(0, 0, 0, 0.15);\n",
              "      filter: drop-shadow(0px 1px 2px rgba(0, 0, 0, 0.3));\n",
              "      fill: #FFFFFF;\n",
              "    }\n",
              "  </style>\n",
              "\n",
              "      <script>\n",
              "        const buttonEl =\n",
              "          document.querySelector('#df-07265448-3b48-4185-9775-7ae370640142 button.colab-df-convert');\n",
              "        buttonEl.style.display =\n",
              "          google.colab.kernel.accessAllowed ? 'block' : 'none';\n",
              "\n",
              "        async function convertToInteractive(key) {\n",
              "          const element = document.querySelector('#df-07265448-3b48-4185-9775-7ae370640142');\n",
              "          const dataTable =\n",
              "            await google.colab.kernel.invokeFunction('convertToInteractive',\n",
              "                                                     [key], {});\n",
              "          if (!dataTable) return;\n",
              "\n",
              "          const docLinkHtml = 'Like what you see? Visit the ' +\n",
              "            '<a target=\"_blank\" href=https://colab.research.google.com/notebooks/data_table.ipynb>data table notebook</a>'\n",
              "            + ' to learn more about interactive tables.';\n",
              "          element.innerHTML = '';\n",
              "          dataTable['output_type'] = 'display_data';\n",
              "          await google.colab.output.renderOutput(dataTable, element);\n",
              "          const docLink = document.createElement('div');\n",
              "          docLink.innerHTML = docLinkHtml;\n",
              "          element.appendChild(docLink);\n",
              "        }\n",
              "      </script>\n",
              "    </div>\n",
              "  </div>\n",
              "  "
            ]
          },
          "metadata": {},
          "execution_count": 16
        }
      ]
    },
    {
      "cell_type": "code",
      "source": [
        "df.info()"
      ],
      "metadata": {
        "execution": {
          "iopub.status.busy": "2022-06-27T15:41:52.657901Z",
          "iopub.execute_input": "2022-06-27T15:41:52.658345Z",
          "iopub.status.idle": "2022-06-27T15:41:52.684847Z",
          "shell.execute_reply.started": "2022-06-27T15:41:52.658306Z",
          "shell.execute_reply": "2022-06-27T15:41:52.683578Z"
        },
        "trusted": true,
        "colab": {
          "base_uri": "https://localhost:8080/"
        },
        "id": "X8_irg64JuAn",
        "outputId": "107b2306-8320-4374-8f08-a2d1d10c6952"
      },
      "execution_count": 17,
      "outputs": [
        {
          "output_type": "stream",
          "name": "stdout",
          "text": [
            "<class 'pandas.core.frame.DataFrame'>\n",
            "RangeIndex: 557 entries, 0 to 556\n",
            "Data columns (total 5 columns):\n",
            " #   Column                        Non-Null Count  Dtype  \n",
            "---  ------                        --------------  -----  \n",
            " 0   Load_Current                  557 non-null    float64\n",
            " 1   Powerfactor                   557 non-null    float64\n",
            " 2   Power_factor_error            557 non-null    float64\n",
            " 3   Change_of_excitation_current  557 non-null    float64\n",
            " 4   Excitation_ current           557 non-null    float64\n",
            "dtypes: float64(5)\n",
            "memory usage: 21.9 KB\n"
          ]
        }
      ]
    },
    {
      "cell_type": "code",
      "source": [
        "df.corr()['Excitation_ current']"
      ],
      "metadata": {
        "execution": {
          "iopub.status.busy": "2022-06-27T15:41:52.686233Z",
          "iopub.execute_input": "2022-06-27T15:41:52.686571Z",
          "iopub.status.idle": "2022-06-27T15:41:52.701741Z",
          "shell.execute_reply.started": "2022-06-27T15:41:52.686541Z",
          "shell.execute_reply": "2022-06-27T15:41:52.700861Z"
        },
        "trusted": true,
        "colab": {
          "base_uri": "https://localhost:8080/"
        },
        "id": "ARdxYKbyJuAn",
        "outputId": "f160f1c1-c270-4d1e-ceea-48f205ae85d5"
      },
      "execution_count": 18,
      "outputs": [
        {
          "output_type": "execute_result",
          "data": {
            "text/plain": [
              "Load_Current                    0.424945\n",
              "Powerfactor                    -0.861013\n",
              "Power_factor_error              0.861013\n",
              "Change_of_excitation_current    1.000000\n",
              "Excitation_ current             1.000000\n",
              "Name: Excitation_ current, dtype: float64"
            ]
          },
          "metadata": {},
          "execution_count": 18
        }
      ]
    },
    {
      "cell_type": "code",
      "source": [
        "sns.pairplot(df)"
      ],
      "metadata": {
        "scrolled": true,
        "execution": {
          "iopub.status.busy": "2022-06-27T15:41:52.702825Z",
          "iopub.execute_input": "2022-06-27T15:41:52.703617Z",
          "iopub.status.idle": "2022-06-27T15:41:56.945262Z",
          "shell.execute_reply.started": "2022-06-27T15:41:52.703581Z",
          "shell.execute_reply": "2022-06-27T15:41:56.94437Z"
        },
        "trusted": true,
        "colab": {
          "base_uri": "https://localhost:8080/",
          "height": 891
        },
        "id": "JBrBtvUMJuAo",
        "outputId": "7c581ebc-8050-4741-84f9-82513ca57e73"
      },
      "execution_count": 19,
      "outputs": [
        {
          "output_type": "execute_result",
          "data": {
            "text/plain": [
              "<seaborn.axisgrid.PairGrid at 0x7fb5c533c050>"
            ]
          },
          "metadata": {},
          "execution_count": 19
        },
        {
          "output_type": "display_data",
          "data": {
            "text/plain": [
              "<Figure size 900x900 with 30 Axes>"
            ],
            "image/png": "[encoded data removed]"
          },
          "metadata": {}
        }
      ]
    },
    {
      "cell_type": "code",
      "source": [
        "#Lets check outliers"
      ],
      "metadata": {
        "execution": {
          "iopub.status.busy": "2022-06-27T15:41:56.946789Z",
          "iopub.execute_input": "2022-06-27T15:41:56.947404Z",
          "iopub.status.idle": "2022-06-27T15:41:56.95204Z",
          "shell.execute_reply.started": "2022-06-27T15:41:56.94737Z",
          "shell.execute_reply": "2022-06-27T15:41:56.950775Z"
        },
        "trusted": true,
        "id": "z1HvoYafJuAo"
      },
      "execution_count": null,
      "outputs": []
    },
    {
      "cell_type": "code",
      "source": [
        "def outlier(cols):\n",
        "    \n",
        "    for col in cols:\n",
        "        print(\"Details of outliers for column: \",col)\n",
        "        print('\\n')\n",
        "        \n",
        "        q75,q25=np.percentile(df[col],[75,25])\n",
        "    \n",
        "        print(\"25th Percentile is: \",q25)\n",
        "        print(\"75th Percentile is: \",q75)\n",
        "\n",
        "        iqr=np.round(q75-q25,3)\n",
        "        print(\"Inter Quartile range is: \",iqr)\n",
        "\n",
        "        upperlim=np.round(q75+(1.5*iqr),3)\n",
        "        print(\"Upper limit is: \", upperlim)\n",
        "\n",
        "        lowerlim=np.round(q25-(1.5*iqr),3)\n",
        "        print(\"Lower limit is: \", lowerlim)\n",
        "        \n",
        "        \n",
        "        print('\\n')\n",
        "        print(\"Rows above Upper Limit are: \",len(df[df[col]>upperlim]))\n",
        "        print(\"Rows below Lower Limit are: \",len(df[df[col]<lowerlim]))\n",
        "        \n",
        "        print('\\n')\n",
        "        print('-------------')\n",
        "        print('\\n')\n"
      ],
      "metadata": {
        "execution": {
          "iopub.status.busy": "2022-06-27T15:41:56.955002Z",
          "iopub.execute_input": "2022-06-27T15:41:56.95534Z",
          "iopub.status.idle": "2022-06-27T15:41:56.966714Z",
          "shell.execute_reply.started": "2022-06-27T15:41:56.955311Z",
          "shell.execute_reply": "2022-06-27T15:41:56.965636Z"
        },
        "trusted": true,
        "id": "FiJU5VouJuAo"
      },
      "execution_count": 20,
      "outputs": []
    },
    {
      "cell_type": "code",
      "source": [
        "cols=df.columns"
      ],
      "metadata": {
        "execution": {
          "iopub.status.busy": "2022-06-27T15:41:56.968507Z",
          "iopub.execute_input": "2022-06-27T15:41:56.969322Z",
          "iopub.status.idle": "2022-06-27T15:41:56.978454Z",
          "shell.execute_reply.started": "2022-06-27T15:41:56.969276Z",
          "shell.execute_reply": "2022-06-27T15:41:56.977238Z"
        },
        "trusted": true,
        "id": "zpomIDALJuAp"
      },
      "execution_count": 21,
      "outputs": []
    },
    {
      "cell_type": "code",
      "source": [
        "outlier(cols)"
      ],
      "metadata": {
        "execution": {
          "iopub.status.busy": "2022-06-27T15:41:56.979806Z",
          "iopub.execute_input": "2022-06-27T15:41:56.9809Z",
          "iopub.status.idle": "2022-06-27T15:41:56.998254Z",
          "shell.execute_reply.started": "2022-06-27T15:41:56.980855Z",
          "shell.execute_reply": "2022-06-27T15:41:56.997115Z"
        },
        "trusted": true,
        "colab": {
          "base_uri": "https://localhost:8080/"
        },
        "id": "XQkaPyrCJuAp",
        "outputId": "13b0b636-dabf-43c5-e579-d49e7004fa74"
      },
      "execution_count": 22,
      "outputs": [
        {
          "output_type": "stream",
          "name": "stdout",
          "text": [
            "Details of outliers for column:  Load_Current\n",
            "\n",
            "\n",
            "25th Percentile is:  3.7\n",
            "75th Percentile is:  5.3\n",
            "Inter Quartile range is:  1.6\n",
            "Upper limit is:  7.7\n",
            "Lower limit is:  1.3\n",
            "\n",
            "\n",
            "Rows above Upper Limit are:  0\n",
            "Rows below Lower Limit are:  0\n",
            "\n",
            "\n",
            "-------------\n",
            "\n",
            "\n",
            "Details of outliers for column:  Powerfactor\n",
            "\n",
            "\n",
            "25th Percentile is:  0.74\n",
            "75th Percentile is:  0.92\n",
            "Inter Quartile range is:  0.18\n",
            "Upper limit is:  1.19\n",
            "Lower limit is:  0.47\n",
            "\n",
            "\n",
            "Rows above Upper Limit are:  0\n",
            "Rows below Lower Limit are:  0\n",
            "\n",
            "\n",
            "-------------\n",
            "\n",
            "\n",
            "Details of outliers for column:  Power_factor_error\n",
            "\n",
            "\n",
            "25th Percentile is:  0.08\n",
            "75th Percentile is:  0.26\n",
            "Inter Quartile range is:  0.18\n",
            "Upper limit is:  0.53\n",
            "Lower limit is:  -0.19\n",
            "\n",
            "\n",
            "Rows above Upper Limit are:  0\n",
            "Rows below Lower Limit are:  0\n",
            "\n",
            "\n",
            "-------------\n",
            "\n",
            "\n",
            "Details of outliers for column:  Change_of_excitation_current\n",
            "\n",
            "\n",
            "25th Percentile is:  0.189\n",
            "75th Percentile is:  0.486\n",
            "Inter Quartile range is:  0.297\n",
            "Upper limit is:  0.932\n",
            "Lower limit is:  -0.256\n",
            "\n",
            "\n",
            "Rows above Upper Limit are:  0\n",
            "Rows below Lower Limit are:  0\n",
            "\n",
            "\n",
            "-------------\n",
            "\n",
            "\n",
            "Details of outliers for column:  Excitation_ current\n",
            "\n",
            "\n",
            "25th Percentile is:  1.369\n",
            "75th Percentile is:  1.666\n",
            "Inter Quartile range is:  0.297\n",
            "Upper limit is:  2.112\n",
            "Lower limit is:  0.924\n",
            "\n",
            "\n",
            "Rows above Upper Limit are:  0\n",
            "Rows below Lower Limit are:  0\n",
            "\n",
            "\n",
            "-------------\n",
            "\n",
            "\n"
          ]
        }
      ]
    },
    {
      "cell_type": "markdown",
      "source": [
        "---------"
      ],
      "metadata": {
        "id": "wGpte1DYJuAp"
      }
    },
    {
      "cell_type": "markdown",
      "source": [
        "#### Linear Regression Model"
      ],
      "metadata": {
        "id": "3VsF7TgHJuAq"
      }
    },
    {
      "cell_type": "code",
      "source": [
        "X=df.drop('Excitation_ current',axis=1)"
      ],
      "metadata": {
        "execution": {
          "iopub.status.busy": "2022-06-27T15:41:56.999929Z",
          "iopub.execute_input": "2022-06-27T15:41:57.000717Z",
          "iopub.status.idle": "2022-06-27T15:41:57.007047Z",
          "shell.execute_reply.started": "2022-06-27T15:41:57.000674Z",
          "shell.execute_reply": "2022-06-27T15:41:57.005942Z"
        },
        "trusted": true,
        "id": "TxkzIFsFJuAr"
      },
      "execution_count": 23,
      "outputs": []
    },
    {
      "cell_type": "code",
      "source": [
        "y=df['Excitation_ current']"
      ],
      "metadata": {
        "execution": {
          "iopub.status.busy": "2022-06-27T15:41:57.008528Z",
          "iopub.execute_input": "2022-06-27T15:41:57.00919Z",
          "iopub.status.idle": "2022-06-27T15:41:57.019977Z",
          "shell.execute_reply.started": "2022-06-27T15:41:57.009137Z",
          "shell.execute_reply": "2022-06-27T15:41:57.018829Z"
        },
        "trusted": true,
        "id": "Y6MxHMoZJuAr"
      },
      "execution_count": 24,
      "outputs": []
    },
    {
      "cell_type": "code",
      "source": [
        "from sklearn.model_selection import train_test_split"
      ],
      "metadata": {
        "execution": {
          "iopub.status.busy": "2022-06-27T15:41:57.02138Z",
          "iopub.execute_input": "2022-06-27T15:41:57.021961Z",
          "iopub.status.idle": "2022-06-27T15:41:57.155818Z",
          "shell.execute_reply.started": "2022-06-27T15:41:57.021895Z",
          "shell.execute_reply": "2022-06-27T15:41:57.154694Z"
        },
        "trusted": true,
        "id": "uukiWhDJJuAr"
      },
      "execution_count": 25,
      "outputs": []
    },
    {
      "cell_type": "code",
      "source": [
        "X_train, X_test, y_train, y_test = train_test_split(X, y, test_size=0.3, random_state=101)"
      ],
      "metadata": {
        "execution": {
          "iopub.status.busy": "2022-06-27T15:41:57.157562Z",
          "iopub.execute_input": "2022-06-27T15:41:57.157994Z",
          "iopub.status.idle": "2022-06-27T15:41:57.165723Z",
          "shell.execute_reply.started": "2022-06-27T15:41:57.15796Z",
          "shell.execute_reply": "2022-06-27T15:41:57.164638Z"
        },
        "trusted": true,
        "id": "3yYarDquJuAs"
      },
      "execution_count": 26,
      "outputs": []
    },
    {
      "cell_type": "code",
      "source": [
        "from sklearn.preprocessing import StandardScaler"
      ],
      "metadata": {
        "execution": {
          "iopub.status.busy": "2022-06-27T15:41:57.166964Z",
          "iopub.execute_input": "2022-06-27T15:41:57.167648Z",
          "iopub.status.idle": "2022-06-27T15:41:57.173739Z",
          "shell.execute_reply.started": "2022-06-27T15:41:57.167609Z",
          "shell.execute_reply": "2022-06-27T15:41:57.172799Z"
        },
        "trusted": true,
        "id": "Z9r5_AJxJuAs"
      },
      "execution_count": 27,
      "outputs": []
    },
    {
      "cell_type": "code",
      "source": [
        "scaler= StandardScaler()"
      ],
      "metadata": {
        "execution": {
          "iopub.status.busy": "2022-06-27T15:41:57.174741Z",
          "iopub.execute_input": "2022-06-27T15:41:57.175858Z",
          "iopub.status.idle": "2022-06-27T15:41:57.186858Z",
          "shell.execute_reply.started": "2022-06-27T15:41:57.175826Z",
          "shell.execute_reply": "2022-06-27T15:41:57.185513Z"
        },
        "trusted": true,
        "id": "mgl8Md4wJuAs"
      },
      "execution_count": 28,
      "outputs": []
    },
    {
      "cell_type": "code",
      "source": [
        "scaler.fit(X_train)"
      ],
      "metadata": {
        "execution": {
          "iopub.status.busy": "2022-06-27T15:41:57.188314Z",
          "iopub.execute_input": "2022-06-27T15:41:57.18963Z",
          "iopub.status.idle": "2022-06-27T15:41:57.204021Z",
          "shell.execute_reply.started": "2022-06-27T15:41:57.189579Z",
          "shell.execute_reply": "2022-06-27T15:41:57.2031Z"
        },
        "trusted": true,
        "colab": {
          "base_uri": "https://localhost:8080/"
        },
        "id": "D5u4kaPqJuAt",
        "outputId": "c775709f-da84-4b39-a71e-e1f8025e14c0"
      },
      "execution_count": 29,
      "outputs": [
        {
          "output_type": "execute_result",
          "data": {
            "text/plain": [
              "StandardScaler()"
            ]
          },
          "metadata": {},
          "execution_count": 29
        }
      ]
    },
    {
      "cell_type": "code",
      "source": [
        "X_train=scaler.transform(X_train)"
      ],
      "metadata": {
        "execution": {
          "iopub.status.busy": "2022-06-27T15:41:57.205097Z",
          "iopub.execute_input": "2022-06-27T15:41:57.205706Z",
          "iopub.status.idle": "2022-06-27T15:41:57.213044Z",
          "shell.execute_reply.started": "2022-06-27T15:41:57.205673Z",
          "shell.execute_reply": "2022-06-27T15:41:57.212212Z"
        },
        "trusted": true,
        "id": "1aqWrkNQJuAt"
      },
      "execution_count": 30,
      "outputs": []
    },
    {
      "cell_type": "code",
      "source": [
        "X_test=scaler.transform(X_test)"
      ],
      "metadata": {
        "execution": {
          "iopub.status.busy": "2022-06-27T15:41:57.219207Z",
          "iopub.execute_input": "2022-06-27T15:41:57.220725Z",
          "iopub.status.idle": "2022-06-27T15:41:57.227752Z",
          "shell.execute_reply.started": "2022-06-27T15:41:57.22067Z",
          "shell.execute_reply": "2022-06-27T15:41:57.226586Z"
        },
        "trusted": true,
        "id": "93jMb8TnJuAt"
      },
      "execution_count": 31,
      "outputs": []
    },
    {
      "cell_type": "code",
      "source": [
        "from sklearn.linear_model import LinearRegression"
      ],
      "metadata": {
        "execution": {
          "iopub.status.busy": "2022-06-27T15:41:57.229058Z",
          "iopub.execute_input": "2022-06-27T15:41:57.229409Z",
          "iopub.status.idle": "2022-06-27T15:41:57.320653Z",
          "shell.execute_reply.started": "2022-06-27T15:41:57.229381Z",
          "shell.execute_reply": "2022-06-27T15:41:57.31939Z"
        },
        "trusted": true,
        "id": "qSMrQk-VJuAt"
      },
      "execution_count": 32,
      "outputs": []
    },
    {
      "cell_type": "code",
      "source": [
        "model=LinearRegression()"
      ],
      "metadata": {
        "execution": {
          "iopub.status.busy": "2022-06-27T15:41:57.323167Z",
          "iopub.execute_input": "2022-06-27T15:41:57.324292Z",
          "iopub.status.idle": "2022-06-27T15:41:57.329542Z",
          "shell.execute_reply.started": "2022-06-27T15:41:57.324239Z",
          "shell.execute_reply": "2022-06-27T15:41:57.328286Z"
        },
        "trusted": true,
        "id": "FfRcrQ4tJuAt"
      },
      "execution_count": 33,
      "outputs": []
    },
    {
      "cell_type": "code",
      "source": [
        "model.fit(X_train,y_train)"
      ],
      "metadata": {
        "execution": {
          "iopub.status.busy": "2022-06-27T15:41:57.330874Z",
          "iopub.execute_input": "2022-06-27T15:41:57.331846Z",
          "iopub.status.idle": "2022-06-27T15:41:57.360242Z",
          "shell.execute_reply.started": "2022-06-27T15:41:57.331811Z",
          "shell.execute_reply": "2022-06-27T15:41:57.359475Z"
        },
        "trusted": true,
        "colab": {
          "base_uri": "https://localhost:8080/"
        },
        "id": "-Etr_0V3JuAu",
        "outputId": "bbe8a43a-dc65-4487-ab9d-e370f47b334f"
      },
      "execution_count": 34,
      "outputs": [
        {
          "output_type": "execute_result",
          "data": {
            "text/plain": [
              "LinearRegression()"
            ]
          },
          "metadata": {},
          "execution_count": 34
        }
      ]
    },
    {
      "cell_type": "code",
      "source": [
        "predicted_y=model.predict(X_test)"
      ],
      "metadata": {
        "execution": {
          "iopub.status.busy": "2022-06-27T15:41:57.361488Z",
          "iopub.execute_input": "2022-06-27T15:41:57.361982Z",
          "iopub.status.idle": "2022-06-27T15:41:57.365947Z",
          "shell.execute_reply.started": "2022-06-27T15:41:57.361951Z",
          "shell.execute_reply": "2022-06-27T15:41:57.365241Z"
        },
        "trusted": true,
        "id": "sfcAEdBwJuAu"
      },
      "execution_count": 35,
      "outputs": []
    },
    {
      "cell_type": "code",
      "source": [
        "from sklearn.metrics import mean_absolute_error,mean_squared_error"
      ],
      "metadata": {
        "execution": {
          "iopub.status.busy": "2022-06-27T15:41:57.367085Z",
          "iopub.execute_input": "2022-06-27T15:41:57.367549Z",
          "iopub.status.idle": "2022-06-27T15:41:57.37855Z",
          "shell.execute_reply.started": "2022-06-27T15:41:57.367519Z",
          "shell.execute_reply": "2022-06-27T15:41:57.377364Z"
        },
        "trusted": true,
        "id": "y-m8NM9YJuAu"
      },
      "execution_count": 36,
      "outputs": []
    },
    {
      "cell_type": "code",
      "source": [
        "RMSE=np.sqrt(mean_squared_error(y_test,predicted_y))\n",
        "MAE=mean_absolute_error(y_test,predicted_y)"
      ],
      "metadata": {
        "execution": {
          "iopub.status.busy": "2022-06-27T15:41:57.379818Z",
          "iopub.execute_input": "2022-06-27T15:41:57.380159Z",
          "iopub.status.idle": "2022-06-27T15:41:57.392982Z",
          "shell.execute_reply.started": "2022-06-27T15:41:57.38013Z",
          "shell.execute_reply": "2022-06-27T15:41:57.392036Z"
        },
        "trusted": true,
        "id": "g2UCrx6mJuAu"
      },
      "execution_count": 37,
      "outputs": []
    },
    {
      "cell_type": "code",
      "source": [
        "RMSE"
      ],
      "metadata": {
        "execution": {
          "iopub.status.busy": "2022-06-27T15:41:57.394108Z",
          "iopub.execute_input": "2022-06-27T15:41:57.394592Z",
          "iopub.status.idle": "2022-06-27T15:41:57.407817Z",
          "shell.execute_reply.started": "2022-06-27T15:41:57.394561Z",
          "shell.execute_reply": "2022-06-27T15:41:57.406942Z"
        },
        "trusted": true,
        "colab": {
          "base_uri": "https://localhost:8080/"
        },
        "id": "6xN2-sj8JuAv",
        "outputId": "97fe15e0-ae71-46ed-840d-f4e52f1254b2"
      },
      "execution_count": 38,
      "outputs": [
        {
          "output_type": "execute_result",
          "data": {
            "text/plain": [
              "1.6431586533659613e-16"
            ]
          },
          "metadata": {},
          "execution_count": 38
        }
      ]
    },
    {
      "cell_type": "code",
      "source": [
        "MAE"
      ],
      "metadata": {
        "execution": {
          "iopub.status.busy": "2022-06-27T15:41:57.409258Z",
          "iopub.execute_input": "2022-06-27T15:41:57.409639Z",
          "iopub.status.idle": "2022-06-27T15:41:57.420315Z",
          "shell.execute_reply.started": "2022-06-27T15:41:57.409559Z",
          "shell.execute_reply": "2022-06-27T15:41:57.419276Z"
        },
        "trusted": true,
        "colab": {
          "base_uri": "https://localhost:8080/"
        },
        "id": "ZXKW21yrJuAv",
        "outputId": "89aefd69-be35-4b16-f39d-68f3c845d3e3"
      },
      "execution_count": 39,
      "outputs": [
        {
          "output_type": "execute_result",
          "data": {
            "text/plain": [
              "1.163090787702545e-16"
            ]
          },
          "metadata": {},
          "execution_count": 39
        }
      ]
    },
    {
      "cell_type": "code",
      "source": [
        "model.score(X_test,y_test)"
      ],
      "metadata": {
        "execution": {
          "iopub.status.busy": "2022-06-27T15:41:57.421718Z",
          "iopub.execute_input": "2022-06-27T15:41:57.42216Z",
          "iopub.status.idle": "2022-06-27T15:41:57.435217Z",
          "shell.execute_reply.started": "2022-06-27T15:41:57.422133Z",
          "shell.execute_reply": "2022-06-27T15:41:57.434155Z"
        },
        "trusted": true,
        "colab": {
          "base_uri": "https://localhost:8080/"
        },
        "id": "Zlgliq1ZJuAv",
        "outputId": "072b1df2-6067-4dde-c460-3b06ccfffb93"
      },
      "execution_count": 40,
      "outputs": [
        {
          "output_type": "execute_result",
          "data": {
            "text/plain": [
              "1.0"
            ]
          },
          "metadata": {},
          "execution_count": 40
        }
      ]
    },
    {
      "cell_type": "code",
      "source": [
        "print(\"Test Accuracy of Linear Regression model is:\",round(100*model.score(X_test, y_test),2))"
      ],
      "metadata": {
        "execution": {
          "iopub.status.busy": "2022-06-27T15:41:57.436471Z",
          "iopub.execute_input": "2022-06-27T15:41:57.436768Z",
          "iopub.status.idle": "2022-06-27T15:41:57.449043Z",
          "shell.execute_reply.started": "2022-06-27T15:41:57.436742Z",
          "shell.execute_reply": "2022-06-27T15:41:57.447917Z"
        },
        "trusted": true,
        "colab": {
          "base_uri": "https://localhost:8080/"
        },
        "id": "08JoTRLPJuAv",
        "outputId": "64dc7228-5a08-4e7b-e21f-11ca36f761da"
      },
      "execution_count": 41,
      "outputs": [
        {
          "output_type": "stream",
          "name": "stdout",
          "text": [
            "Test Accuracy of Linear Regression model is: 100.0\n"
          ]
        }
      ]
    },
    {
      "cell_type": "code",
      "source": [
        "print(\"Train Accuracy of Linear Regression model is:\",round(100*model.score(X_train, y_train),2))"
      ],
      "metadata": {
        "execution": {
          "iopub.status.busy": "2022-06-27T15:41:57.450293Z",
          "iopub.execute_input": "2022-06-27T15:41:57.450615Z",
          "iopub.status.idle": "2022-06-27T15:41:57.462717Z",
          "shell.execute_reply.started": "2022-06-27T15:41:57.450587Z",
          "shell.execute_reply": "2022-06-27T15:41:57.46174Z"
        },
        "trusted": true,
        "colab": {
          "base_uri": "https://localhost:8080/"
        },
        "id": "2DibfX7AJuAw",
        "outputId": "a5a03fc2-0357-439b-b1fb-ff9ffc6048cc"
      },
      "execution_count": 42,
      "outputs": [
        {
          "output_type": "stream",
          "name": "stdout",
          "text": [
            "Train Accuracy of Linear Regression model is: 100.0\n"
          ]
        }
      ]
    },
    {
      "cell_type": "code",
      "source": [
        "print('Mean Squared Error is: ',np.sqrt(mean_squared_error(y_test,predicted_y)))"
      ],
      "metadata": {
        "execution": {
          "iopub.status.busy": "2022-06-27T15:41:57.46388Z",
          "iopub.execute_input": "2022-06-27T15:41:57.464633Z",
          "iopub.status.idle": "2022-06-27T15:41:57.47439Z",
          "shell.execute_reply.started": "2022-06-27T15:41:57.464598Z",
          "shell.execute_reply": "2022-06-27T15:41:57.473245Z"
        },
        "trusted": true,
        "colab": {
          "base_uri": "https://localhost:8080/"
        },
        "id": "XXx7Kq4KJuAw",
        "outputId": "f18aefba-2570-47e2-e735-eeaae6ea2104"
      },
      "execution_count": 43,
      "outputs": [
        {
          "output_type": "stream",
          "name": "stdout",
          "text": [
            "Mean Squared Error is:  1.6431586533659613e-16\n"
          ]
        }
      ]
    },
    {
      "cell_type": "code",
      "source": [],
      "metadata": {
        "id": "Tygdx1AkJuAw"
      },
      "execution_count": 43,
      "outputs": []
    },
    {
      "cell_type": "markdown",
      "source": [
        "---------"
      ],
      "metadata": {
        "id": "VdlOc3BkJuAw"
      }
    },
    {
      "cell_type": "markdown",
      "source": [
        "####  Elastic Net Model"
      ],
      "metadata": {
        "id": "hf-HGa0pJuAx"
      }
    },
    {
      "cell_type": "code",
      "source": [
        "from sklearn.linear_model import ElasticNet"
      ],
      "metadata": {
        "execution": {
          "iopub.status.busy": "2022-06-27T15:41:57.475572Z",
          "iopub.execute_input": "2022-06-27T15:41:57.47628Z",
          "iopub.status.idle": "2022-06-27T15:41:57.4883Z",
          "shell.execute_reply.started": "2022-06-27T15:41:57.476244Z",
          "shell.execute_reply": "2022-06-27T15:41:57.487063Z"
        },
        "trusted": true,
        "id": "wqkH9ah4JuAx"
      },
      "execution_count": 44,
      "outputs": []
    },
    {
      "cell_type": "code",
      "source": [
        "elastic_net_model=ElasticNet(max_iter=1000000,tol=0.01)"
      ],
      "metadata": {
        "execution": {
          "iopub.status.busy": "2022-06-27T15:41:57.489994Z",
          "iopub.execute_input": "2022-06-27T15:41:57.490377Z",
          "iopub.status.idle": "2022-06-27T15:41:57.500336Z",
          "shell.execute_reply.started": "2022-06-27T15:41:57.490342Z",
          "shell.execute_reply": "2022-06-27T15:41:57.499507Z"
        },
        "trusted": true,
        "id": "vKOLW_oBJuAx"
      },
      "execution_count": 45,
      "outputs": []
    },
    {
      "cell_type": "code",
      "source": [
        "#lets seach for best parameters using 'GridSearchCV'"
      ],
      "metadata": {
        "execution": {
          "iopub.status.busy": "2022-06-27T15:41:57.501766Z",
          "iopub.execute_input": "2022-06-27T15:41:57.502095Z",
          "iopub.status.idle": "2022-06-27T15:41:57.516218Z",
          "shell.execute_reply.started": "2022-06-27T15:41:57.502066Z",
          "shell.execute_reply": "2022-06-27T15:41:57.514819Z"
        },
        "trusted": true,
        "id": "8Vxv0mSwJuAx"
      },
      "execution_count": 46,
      "outputs": []
    },
    {
      "cell_type": "code",
      "source": [
        "from sklearn.model_selection import GridSearchCV"
      ],
      "metadata": {
        "execution": {
          "iopub.status.busy": "2022-06-27T15:41:57.517823Z",
          "iopub.execute_input": "2022-06-27T15:41:57.518149Z",
          "iopub.status.idle": "2022-06-27T15:41:57.529025Z",
          "shell.execute_reply.started": "2022-06-27T15:41:57.518119Z",
          "shell.execute_reply": "2022-06-27T15:41:57.527879Z"
        },
        "trusted": true,
        "id": "TPe5DDuyJuAx"
      },
      "execution_count": 47,
      "outputs": []
    },
    {
      "cell_type": "code",
      "source": [
        "#defining various alphas and l1 ratios to check the best parameter\n",
        "param_grid={'alpha':[0.001,0.1,1,5,7,10,50,75,100,150,200],'l1_ratio':[0.001,0.1,0.2,0.5,0.7,0.99,1]}"
      ],
      "metadata": {
        "execution": {
          "iopub.status.busy": "2022-06-27T15:41:57.531008Z",
          "iopub.execute_input": "2022-06-27T15:41:57.531547Z",
          "iopub.status.idle": "2022-06-27T15:41:57.54245Z",
          "shell.execute_reply.started": "2022-06-27T15:41:57.531511Z",
          "shell.execute_reply": "2022-06-27T15:41:57.541366Z"
        },
        "trusted": true,
        "id": "DCGM3gFVJuAx"
      },
      "execution_count": 48,
      "outputs": []
    },
    {
      "cell_type": "code",
      "source": [
        "grid_model=GridSearchCV(estimator=elastic_net_model,param_grid=param_grid,scoring='neg_root_mean_squared_error',cv=10)"
      ],
      "metadata": {
        "execution": {
          "iopub.status.busy": "2022-06-27T15:41:57.543339Z",
          "iopub.execute_input": "2022-06-27T15:41:57.543664Z",
          "iopub.status.idle": "2022-06-27T15:41:57.554958Z",
          "shell.execute_reply.started": "2022-06-27T15:41:57.543636Z",
          "shell.execute_reply": "2022-06-27T15:41:57.55389Z"
        },
        "trusted": true,
        "id": "_dZuooNQJuAx"
      },
      "execution_count": 49,
      "outputs": []
    },
    {
      "cell_type": "code",
      "source": [
        "grid_model.fit(X_train,y_train)"
      ],
      "metadata": {
        "execution": {
          "iopub.status.busy": "2022-06-27T15:41:57.555834Z",
          "iopub.execute_input": "2022-06-27T15:41:57.556141Z",
          "iopub.status.idle": "2022-06-27T15:41:58.746652Z",
          "shell.execute_reply.started": "2022-06-27T15:41:57.556113Z",
          "shell.execute_reply": "2022-06-27T15:41:58.745611Z"
        },
        "trusted": true,
        "colab": {
          "base_uri": "https://localhost:8080/"
        },
        "id": "hQhACu8QJuAy",
        "outputId": "01fd2906-81b8-4547-96c2-79bf30779ac2"
      },
      "execution_count": 50,
      "outputs": [
        {
          "output_type": "execute_result",
          "data": {
            "text/plain": [
              "GridSearchCV(cv=10, estimator=ElasticNet(max_iter=1000000, tol=0.01),\n",
              "             param_grid={'alpha': [0.001, 0.1, 1, 5, 7, 10, 50, 75, 100, 150,\n",
              "                                   200],\n",
              "                         'l1_ratio': [0.001, 0.1, 0.2, 0.5, 0.7, 0.99, 1]},\n",
              "             scoring='neg_root_mean_squared_error')"
            ]
          },
          "metadata": {},
          "execution_count": 50
        }
      ]
    },
    {
      "cell_type": "code",
      "source": [
        "grid_model.best_estimator_"
      ],
      "metadata": {
        "execution": {
          "iopub.status.busy": "2022-06-27T15:41:58.747947Z",
          "iopub.execute_input": "2022-06-27T15:41:58.748253Z",
          "iopub.status.idle": "2022-06-27T15:41:58.754838Z",
          "shell.execute_reply.started": "2022-06-27T15:41:58.748226Z",
          "shell.execute_reply": "2022-06-27T15:41:58.75407Z"
        },
        "trusted": true,
        "colab": {
          "base_uri": "https://localhost:8080/"
        },
        "id": "Y4p5KPetJuAy",
        "outputId": "894c3438-d278-4596-844a-8b5a6ebd3cb2"
      },
      "execution_count": 51,
      "outputs": [
        {
          "output_type": "execute_result",
          "data": {
            "text/plain": [
              "ElasticNet(alpha=0.001, l1_ratio=1, max_iter=1000000, tol=0.01)"
            ]
          },
          "metadata": {},
          "execution_count": 51
        }
      ]
    },
    {
      "cell_type": "code",
      "source": [
        "predicted_y=grid_model.predict(X_test)"
      ],
      "metadata": {
        "execution": {
          "iopub.status.busy": "2022-06-27T15:41:58.756038Z",
          "iopub.execute_input": "2022-06-27T15:41:58.756901Z",
          "iopub.status.idle": "2022-06-27T15:41:58.76683Z",
          "shell.execute_reply.started": "2022-06-27T15:41:58.756858Z",
          "shell.execute_reply": "2022-06-27T15:41:58.765904Z"
        },
        "trusted": true,
        "id": "Gm9BamQhJuAy"
      },
      "execution_count": 52,
      "outputs": []
    },
    {
      "cell_type": "code",
      "source": [
        "MAE=mean_absolute_error(y_test,predicted_y)\n",
        "RMSE=np.sqrt(mean_squared_error(y_test,predicted_y))"
      ],
      "metadata": {
        "execution": {
          "iopub.status.busy": "2022-06-27T15:41:58.767975Z",
          "iopub.execute_input": "2022-06-27T15:41:58.768321Z",
          "iopub.status.idle": "2022-06-27T15:41:58.782033Z",
          "shell.execute_reply.started": "2022-06-27T15:41:58.768292Z",
          "shell.execute_reply": "2022-06-27T15:41:58.780814Z"
        },
        "trusted": true,
        "id": "YI_xSv8sJuAy"
      },
      "execution_count": 53,
      "outputs": []
    },
    {
      "cell_type": "code",
      "source": [
        "MAE"
      ],
      "metadata": {
        "execution": {
          "iopub.status.busy": "2022-06-27T15:41:58.786035Z",
          "iopub.execute_input": "2022-06-27T15:41:58.786363Z",
          "iopub.status.idle": "2022-06-27T15:41:58.79494Z",
          "shell.execute_reply.started": "2022-06-27T15:41:58.786333Z",
          "shell.execute_reply": "2022-06-27T15:41:58.793793Z"
        },
        "trusted": true,
        "colab": {
          "base_uri": "https://localhost:8080/"
        },
        "id": "HMHvyqmdJuAy",
        "outputId": "692dd656-01e8-4961-c286-e92107f792e6"
      },
      "execution_count": 54,
      "outputs": [
        {
          "output_type": "execute_result",
          "data": {
            "text/plain": [
              "0.0023603719266736887"
            ]
          },
          "metadata": {},
          "execution_count": 54
        }
      ]
    },
    {
      "cell_type": "code",
      "source": [
        "RMSE"
      ],
      "metadata": {
        "execution": {
          "iopub.status.busy": "2022-06-27T15:41:58.796416Z",
          "iopub.execute_input": "2022-06-27T15:41:58.797093Z",
          "iopub.status.idle": "2022-06-27T15:41:58.808707Z",
          "shell.execute_reply.started": "2022-06-27T15:41:58.797053Z",
          "shell.execute_reply": "2022-06-27T15:41:58.807461Z"
        },
        "trusted": true,
        "colab": {
          "base_uri": "https://localhost:8080/"
        },
        "id": "PlWHtYcVJuAy",
        "outputId": "71539bc6-97ac-4390-b5f4-844b02f47839"
      },
      "execution_count": 55,
      "outputs": [
        {
          "output_type": "execute_result",
          "data": {
            "text/plain": [
              "0.0029825347813075913"
            ]
          },
          "metadata": {},
          "execution_count": 55
        }
      ]
    },
    {
      "cell_type": "code",
      "source": [
        "final_elastic_model= ElasticNet(alpha=0.001,l1_ratio=1,max_iter=1000000,tol=0.01)"
      ],
      "metadata": {
        "execution": {
          "iopub.status.busy": "2022-06-27T15:41:58.810295Z",
          "iopub.execute_input": "2022-06-27T15:41:58.810947Z",
          "iopub.status.idle": "2022-06-27T15:41:58.81861Z",
          "shell.execute_reply.started": "2022-06-27T15:41:58.810903Z",
          "shell.execute_reply": "2022-06-27T15:41:58.817724Z"
        },
        "trusted": true,
        "id": "xa_lSI8AJuAz"
      },
      "execution_count": 56,
      "outputs": []
    },
    {
      "cell_type": "code",
      "source": [
        "final_elastic_model.fit(X_train,y_train)"
      ],
      "metadata": {
        "execution": {
          "iopub.status.busy": "2022-06-27T15:41:58.819775Z",
          "iopub.execute_input": "2022-06-27T15:41:58.820051Z",
          "iopub.status.idle": "2022-06-27T15:41:58.833497Z",
          "shell.execute_reply.started": "2022-06-27T15:41:58.820027Z",
          "shell.execute_reply": "2022-06-27T15:41:58.832161Z"
        },
        "trusted": true,
        "colab": {
          "base_uri": "https://localhost:8080/"
        },
        "id": "lbxEh3zWJuAz",
        "outputId": "bd69ad5c-d25c-4f6b-ac17-df78fd82a05e"
      },
      "execution_count": 57,
      "outputs": [
        {
          "output_type": "execute_result",
          "data": {
            "text/plain": [
              "ElasticNet(alpha=0.001, l1_ratio=1, max_iter=1000000, tol=0.01)"
            ]
          },
          "metadata": {},
          "execution_count": 57
        }
      ]
    },
    {
      "cell_type": "code",
      "source": [
        "predicted_y=final_elastic_model.predict(X_test)"
      ],
      "metadata": {
        "execution": {
          "iopub.status.busy": "2022-06-27T15:41:58.835017Z",
          "iopub.execute_input": "2022-06-27T15:41:58.835629Z",
          "iopub.status.idle": "2022-06-27T15:41:58.843309Z",
          "shell.execute_reply.started": "2022-06-27T15:41:58.835587Z",
          "shell.execute_reply": "2022-06-27T15:41:58.842525Z"
        },
        "trusted": true,
        "id": "Sqx2L2CvJuAz"
      },
      "execution_count": 58,
      "outputs": []
    },
    {
      "cell_type": "code",
      "source": [
        "print('Test Accuracy of ElasticNet Model: ',round(100*final_elastic_model.score(X_test, y_test),2),'%')"
      ],
      "metadata": {
        "execution": {
          "iopub.status.busy": "2022-06-27T15:41:58.844302Z",
          "iopub.execute_input": "2022-06-27T15:41:58.847076Z",
          "iopub.status.idle": "2022-06-27T15:41:58.85889Z",
          "shell.execute_reply.started": "2022-06-27T15:41:58.847041Z",
          "shell.execute_reply": "2022-06-27T15:41:58.857747Z"
        },
        "trusted": true,
        "colab": {
          "base_uri": "https://localhost:8080/"
        },
        "id": "UxOBsPF1JuAz",
        "outputId": "9320b8db-108c-4671-b298-f67599e9d38e"
      },
      "execution_count": 59,
      "outputs": [
        {
          "output_type": "stream",
          "name": "stdout",
          "text": [
            "Test Accuracy of ElasticNet Model:  99.97 %\n"
          ]
        }
      ]
    },
    {
      "cell_type": "code",
      "source": [
        "print('Train Accuracy of ElasticNet Model: ',round(100*final_elastic_model.score(X_train, y_train),2),'%')"
      ],
      "metadata": {
        "execution": {
          "iopub.status.busy": "2022-06-27T15:41:58.860385Z",
          "iopub.execute_input": "2022-06-27T15:41:58.861364Z",
          "iopub.status.idle": "2022-06-27T15:41:58.874739Z",
          "shell.execute_reply.started": "2022-06-27T15:41:58.861318Z",
          "shell.execute_reply": "2022-06-27T15:41:58.873484Z"
        },
        "trusted": true,
        "colab": {
          "base_uri": "https://localhost:8080/"
        },
        "id": "h-iuZeW8JuAz",
        "outputId": "64e0af17-659a-4961-b39b-b1a8aaec1572"
      },
      "execution_count": 60,
      "outputs": [
        {
          "output_type": "stream",
          "name": "stdout",
          "text": [
            "Train Accuracy of ElasticNet Model:  99.97 %\n"
          ]
        }
      ]
    },
    {
      "cell_type": "code",
      "source": [],
      "metadata": {
        "id": "BXkKH2E2JuAz"
      },
      "execution_count": 60,
      "outputs": []
    },
    {
      "cell_type": "code",
      "source": [],
      "metadata": {
        "id": "VDXzaRQAJuAz"
      },
      "execution_count": 60,
      "outputs": []
    }
  ]
}